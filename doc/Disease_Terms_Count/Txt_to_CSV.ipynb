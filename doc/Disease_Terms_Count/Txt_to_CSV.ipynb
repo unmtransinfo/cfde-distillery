{
 "cells": [
  {
   "cell_type": "code",
   "execution_count": 4,
   "id": "95f8318c-f163-482d-bf2f-0025c9275a50",
   "metadata": {},
   "outputs": [],
   "source": [
    "import csv"
   ]
  },
  {
   "cell_type": "code",
   "execution_count": 5,
   "id": "a76a2f15-5932-456a-9e9b-b9ec31b91c08",
   "metadata": {},
   "outputs": [],
   "source": [
    "# Function to process text file and convert to CSV\n",
    "def text_to_csv(input_file, output_file):\n",
    "    # Define the columns to extract\n",
    "    columns = ['Name', 'UI', 'Semantic Type']\n",
    "    # Open input and output files\n",
    "    with open(input_file, 'r') as infile, open(output_file, 'w', newline='') as outfile:\n",
    "        writer = csv.DictWriter(outfile, fieldnames=columns)\n",
    "        writer.writeheader()\n",
    "\n",
    "        # Read lines from input file\n",
    "        lines = infile.readlines()\n",
    "\n",
    "        # Initialize variables to store current record's data\n",
    "        record = {}\n",
    "        for line in lines:\n",
    "            line = line.strip()\n",
    "            if line.startswith('Name:'):\n",
    "                record['Name'] = line.split(': ')[1]\n",
    "            elif line.startswith('UI:'):\n",
    "                record['UI'] = line.split(': ')[1]\n",
    "            elif line.startswith('Semantic Type:'):\n",
    "                record['Semantic Type'] = line.split(': ')[1]\n",
    "    #        elif line == '---':\n",
    "            elif record:\n",
    "                writer.writerow(record)\n",
    "                record = {}\n",
    "        # Write the last record if any\n",
    "        if record:\n",
    "            writer.writerow(record)             \n",
    "                                "
   ]
  },
  {
   "cell_type": "code",
   "execution_count": 6,
   "id": "7e2c1896-4915-4ac6-ac1f-4b2bbd4add88",
   "metadata": {},
   "outputs": [
    {
     "name": "stdout",
     "output_type": "stream",
     "text": [
      "Conversion complete. CSV file saved as output.csv\n"
     ]
    }
   ],
   "source": [
    "if __name__ == '__main__':\n",
    "\tinput_file = 'Results.txt'\n",
    "\toutput_file = 'Results.csv'\n",
    "\ttext_to_csv(input_file, output_file)\n",
    "\tprint(f'Conversion complete. CSV file saved as {output_file}')\n"
   ]
  },
  {
   "cell_type": "code",
   "execution_count": null,
   "id": "c232b9f9-0317-4fca-b80b-8578491dc7af",
   "metadata": {},
   "outputs": [],
   "source": []
  }
 ],
 "metadata": {
  "kernelspec": {
   "display_name": "Python 3 (ipykernel)",
   "language": "python",
   "name": "python3"
  },
  "language_info": {
   "codemirror_mode": {
    "name": "ipython",
    "version": 3
   },
   "file_extension": ".py",
   "mimetype": "text/x-python",
   "name": "python",
   "nbconvert_exporter": "python",
   "pygments_lexer": "ipython3",
   "version": "3.12.3"
  }
 },
 "nbformat": 4,
 "nbformat_minor": 5
}
