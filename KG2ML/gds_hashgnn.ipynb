{
 "cells": [
  {
   "cell_type": "code",
   "execution_count": 1,
   "id": "a457eaf1-6a2f-4118-b679-e6023f7a5d1c",
   "metadata": {},
   "outputs": [
    {
     "name": "stdout",
     "output_type": "stream",
     "text": [
      "Requirement already satisfied: pandas in /home/pkedia/miniconda3/envs/cfde/lib/python3.8/site-packages (2.0.3)\n",
      "Requirement already satisfied: python-dateutil>=2.8.2 in /home/pkedia/miniconda3/envs/cfde/lib/python3.8/site-packages (from pandas) (2.8.2)\n",
      "Requirement already satisfied: pytz>=2020.1 in /home/pkedia/miniconda3/envs/cfde/lib/python3.8/site-packages (from pandas) (2024.1)\n",
      "Requirement already satisfied: tzdata>=2022.1 in /home/pkedia/miniconda3/envs/cfde/lib/python3.8/site-packages (from pandas) (2024.1)\n",
      "Requirement already satisfied: numpy>=1.20.3 in /home/pkedia/miniconda3/envs/cfde/lib/python3.8/site-packages (from pandas) (1.24.4)\n",
      "Requirement already satisfied: six>=1.5 in /home/pkedia/miniconda3/envs/cfde/lib/python3.8/site-packages (from python-dateutil>=2.8.2->pandas) (1.16.0)\n",
      "Requirement already satisfied: graphdatascience in /home/pkedia/miniconda3/envs/cfde/lib/python3.8/site-packages (1.9)\n",
      "Requirement already satisfied: multimethod<2.0,>=1.0 in /home/pkedia/miniconda3/envs/cfde/lib/python3.8/site-packages (from graphdatascience) (1.10)\n",
      "Requirement already satisfied: neo4j<6.0,>=4.4.2 in /home/pkedia/miniconda3/envs/cfde/lib/python3.8/site-packages (from graphdatascience) (5.17.0)\n",
      "Requirement already satisfied: pandas<3.0,>=1.0 in /home/pkedia/miniconda3/envs/cfde/lib/python3.8/site-packages (from graphdatascience) (2.0.3)\n",
      "Requirement already satisfied: pyarrow<15.0,>=10.0 in /home/pkedia/miniconda3/envs/cfde/lib/python3.8/site-packages (from graphdatascience) (14.0.2)\n",
      "Requirement already satisfied: textdistance<5.0,>=4.0 in /home/pkedia/miniconda3/envs/cfde/lib/python3.8/site-packages (from graphdatascience) (4.6.1)\n",
      "Requirement already satisfied: tqdm<5.0,>=4.0 in /home/pkedia/miniconda3/envs/cfde/lib/python3.8/site-packages (from graphdatascience) (4.66.2)\n",
      "Requirement already satisfied: typing-extensions<5.0,>=4.0 in /home/pkedia/miniconda3/envs/cfde/lib/python3.8/site-packages (from graphdatascience) (4.9.0)\n",
      "Requirement already satisfied: requests in /home/pkedia/miniconda3/envs/cfde/lib/python3.8/site-packages (from graphdatascience) (2.31.0)\n",
      "Requirement already satisfied: pytz in /home/pkedia/miniconda3/envs/cfde/lib/python3.8/site-packages (from neo4j<6.0,>=4.4.2->graphdatascience) (2024.1)\n",
      "Requirement already satisfied: python-dateutil>=2.8.2 in /home/pkedia/miniconda3/envs/cfde/lib/python3.8/site-packages (from pandas<3.0,>=1.0->graphdatascience) (2.8.2)\n",
      "Requirement already satisfied: tzdata>=2022.1 in /home/pkedia/miniconda3/envs/cfde/lib/python3.8/site-packages (from pandas<3.0,>=1.0->graphdatascience) (2024.1)\n",
      "Requirement already satisfied: numpy>=1.20.3 in /home/pkedia/miniconda3/envs/cfde/lib/python3.8/site-packages (from pandas<3.0,>=1.0->graphdatascience) (1.24.4)\n",
      "Requirement already satisfied: charset-normalizer<4,>=2 in /home/pkedia/miniconda3/envs/cfde/lib/python3.8/site-packages (from requests->graphdatascience) (3.3.2)\n",
      "Requirement already satisfied: idna<4,>=2.5 in /home/pkedia/miniconda3/envs/cfde/lib/python3.8/site-packages (from requests->graphdatascience) (3.6)\n",
      "Requirement already satisfied: urllib3<3,>=1.21.1 in /home/pkedia/miniconda3/envs/cfde/lib/python3.8/site-packages (from requests->graphdatascience) (2.2.1)\n",
      "Requirement already satisfied: certifi>=2017.4.17 in /home/pkedia/miniconda3/envs/cfde/lib/python3.8/site-packages (from requests->graphdatascience) (2024.2.2)\n",
      "Requirement already satisfied: six>=1.5 in /home/pkedia/miniconda3/envs/cfde/lib/python3.8/site-packages (from python-dateutil>=2.8.2->pandas<3.0,>=1.0->graphdatascience) (1.16.0)\n"
     ]
    }
   ],
   "source": [
    "!pip install pandas\n",
    "!pip install graphdatascience"
   ]
  },
  {
   "cell_type": "code",
   "execution_count": 2,
   "id": "a083a3ea-5d9f-4bf5-a59a-781170f12e53",
   "metadata": {},
   "outputs": [
    {
     "name": "stderr",
     "output_type": "stream",
     "text": [
      "/home/pkedia/miniconda3/envs/cfde/lib/python3.8/site-packages/tqdm/auto.py:21: TqdmWarning: IProgress not found. Please update jupyter and ipywidgets. See https://ipywidgets.readthedocs.io/en/stable/user_install.html\n",
      "  from .autonotebook import tqdm as notebook_tqdm\n"
     ]
    }
   ],
   "source": [
    "from graphdatascience import GraphDataScience"
   ]
  },
  {
   "cell_type": "code",
   "execution_count": 3,
   "id": "975f8437-b57f-4659-87eb-1a4466ac661e",
   "metadata": {},
   "outputs": [],
   "source": [
    "NEO4J_URI = \"neo4j://localhost:7687\"\n",
    "NEO4J_AUTH = (\n",
    "    \"neo4j\",\n",
    "    \"Hello@001\"\n",
    ")\n",
    "NEO4J_DB = \"neo4j\"\n",
    "\n",
    "gds = GraphDataScience(NEO4J_URI, auth = NEO4J_AUTH, database = NEO4J_DB)"
   ]
  },
  {
   "cell_type": "code",
   "execution_count": 4,
   "id": "5d063a54-8ccf-4f1d-891c-8fca6d3ae71c",
   "metadata": {},
   "outputs": [],
   "source": [
    "from graphdatascience.server_version.server_version import ServerVersion\n",
    "assert gds.server_version() >= ServerVersion(2,3,0)"
   ]
  },
  {
   "cell_type": "code",
   "execution_count": 1,
   "id": "7872338a-fcef-44a4-a077-51d1fc174144",
   "metadata": {},
   "outputs": [
    {
     "data": {
      "text/plain": [
       "'\\nRequired dataframe type for nodes and relationships\\n\\nnodes = pandas.DataFrame(\\n    {\\n        \"nodeId\": [0, 1, 2, 3],\\n        \"labels\":  [\"A\", \"B\", \"C\", \"A\"],\\n        \"prop1\": [42, 1337, 8, 0],\\n        \"otherProperty\": [0.1, 0.2, 0.3, 0.4]\\n    }\\n)\\n\\nrelationships = pandas.DataFrame(\\n    {\\n        \"sourceNodeId\": [0, 1, 2, 3],\\n        \"targetNodeId\": [1, 2, 3, 0],\\n        \"relationshipType\": [\"REL\", \"REL\", \"REL\", \"REL\"],\\n        \"weight\": [0.0, 0.0, 0.1, 42.0]\\n    }\\n)\\n\\n'"
      ]
     },
     "execution_count": 1,
     "metadata": {},
     "output_type": "execute_result"
    }
   ],
   "source": [
    "\"\"\"\n",
    "Required dataframe type for nodes and relationships\n",
    "\n",
    "nodes = pandas.DataFrame(\n",
    "    {\n",
    "        \"nodeId\": [0, 1, 2, 3],\n",
    "        \"labels\":  [\"A\", \"B\", \"C\", \"A\"],\n",
    "        \"prop1\": [42, 1337, 8, 0],\n",
    "        \"otherProperty\": [0.1, 0.2, 0.3, 0.4]\n",
    "    }\n",
    ")\n",
    "\n",
    "relationships = pandas.DataFrame(\n",
    "    {\n",
    "        \"sourceNodeId\": [0, 1, 2, 3],\n",
    "        \"targetNodeId\": [1, 2, 3, 0],\n",
    "        \"relationshipType\": [\"REL\", \"REL\", \"REL\", \"REL\"],\n",
    "        \"weight\": [0.0, 0.0, 0.1, 42.0]\n",
    "    }\n",
    ")\n",
    "\n",
    "\"\"\""
   ]
  },
  {
   "cell_type": "code",
   "execution_count": 26,
   "id": "e7963499-831e-44c9-ab01-b6bad88626b1",
   "metadata": {},
   "outputs": [
    {
     "data": {
      "text/html": [
       "<div>\n",
       "<style scoped>\n",
       "    .dataframe tbody tr th:only-of-type {\n",
       "        vertical-align: middle;\n",
       "    }\n",
       "\n",
       "    .dataframe tbody tr th {\n",
       "        vertical-align: top;\n",
       "    }\n",
       "\n",
       "    .dataframe thead th {\n",
       "        text-align: right;\n",
       "    }\n",
       "</style>\n",
       "<table border=\"1\" class=\"dataframe\">\n",
       "  <thead>\n",
       "    <tr style=\"text-align: right;\">\n",
       "      <th></th>\n",
       "      <th>positive_genes_cui</th>\n",
       "      <th>positive_genes_label</th>\n",
       "      <th>features</th>\n",
       "      <th>features_to_remove</th>\n",
       "      <th>unknown_genes_cui</th>\n",
       "      <th>unknown_genes_label</th>\n",
       "      <th>pos_ids</th>\n",
       "      <th>unk_ids</th>\n",
       "      <th>r1</th>\n",
       "      <th>r2</th>\n",
       "    </tr>\n",
       "  </thead>\n",
       "  <tbody>\n",
       "    <tr>\n",
       "      <th>0</th>\n",
       "      <td>C1414209</td>\n",
       "      <td>DYSF gene</td>\n",
       "      <td>C0023212</td>\n",
       "      <td>C0005578</td>\n",
       "      <td>C1412137</td>\n",
       "      <td>ACTA2 gene</td>\n",
       "      <td>714968</td>\n",
       "      <td>706646</td>\n",
       "      <td>associated_with</td>\n",
       "      <td>associated_with</td>\n",
       "    </tr>\n",
       "    <tr>\n",
       "      <th>1</th>\n",
       "      <td>C1414209</td>\n",
       "      <td>DYSF gene</td>\n",
       "      <td>C0023212</td>\n",
       "      <td>C0005578</td>\n",
       "      <td>C1419216</td>\n",
       "      <td>KIF20A gene</td>\n",
       "      <td>714968</td>\n",
       "      <td>709722</td>\n",
       "      <td>associated_with</td>\n",
       "      <td>associated_with</td>\n",
       "    </tr>\n",
       "    <tr>\n",
       "      <th>2</th>\n",
       "      <td>C1414209</td>\n",
       "      <td>DYSF gene</td>\n",
       "      <td>C0023212</td>\n",
       "      <td>C0005578</td>\n",
       "      <td>C1423020</td>\n",
       "      <td>GTPBP3 gene</td>\n",
       "      <td>714968</td>\n",
       "      <td>732531</td>\n",
       "      <td>associated_with</td>\n",
       "      <td>associated_with</td>\n",
       "    </tr>\n",
       "    <tr>\n",
       "      <th>3</th>\n",
       "      <td>C1414209</td>\n",
       "      <td>DYSF gene</td>\n",
       "      <td>C0023212</td>\n",
       "      <td>C0005578</td>\n",
       "      <td>C1414899</td>\n",
       "      <td>GAA gene</td>\n",
       "      <td>714968</td>\n",
       "      <td>695327</td>\n",
       "      <td>associated_with</td>\n",
       "      <td>associated_with</td>\n",
       "    </tr>\n",
       "    <tr>\n",
       "      <th>4</th>\n",
       "      <td>C1414209</td>\n",
       "      <td>DYSF gene</td>\n",
       "      <td>C0023212</td>\n",
       "      <td>C0005578</td>\n",
       "      <td>C1826654</td>\n",
       "      <td>PPCS gene</td>\n",
       "      <td>714968</td>\n",
       "      <td>713476</td>\n",
       "      <td>associated_with</td>\n",
       "      <td>associated_with</td>\n",
       "    </tr>\n",
       "    <tr>\n",
       "      <th>5</th>\n",
       "      <td>C1414209</td>\n",
       "      <td>DYSF gene</td>\n",
       "      <td>C0023212</td>\n",
       "      <td>C0005578</td>\n",
       "      <td>C1420009</td>\n",
       "      <td>SGCG gene</td>\n",
       "      <td>714968</td>\n",
       "      <td>729483</td>\n",
       "      <td>associated_with</td>\n",
       "      <td>associated_with</td>\n",
       "    </tr>\n",
       "    <tr>\n",
       "      <th>6</th>\n",
       "      <td>C1414209</td>\n",
       "      <td>DYSF gene</td>\n",
       "      <td>C0023212</td>\n",
       "      <td>C0005578</td>\n",
       "      <td>C1537558</td>\n",
       "      <td>LDLRAP1 gene</td>\n",
       "      <td>714968</td>\n",
       "      <td>723232</td>\n",
       "      <td>associated_with</td>\n",
       "      <td>associated_with</td>\n",
       "    </tr>\n",
       "    <tr>\n",
       "      <th>7</th>\n",
       "      <td>C1414209</td>\n",
       "      <td>DYSF gene</td>\n",
       "      <td>C0023212</td>\n",
       "      <td>C0005578</td>\n",
       "      <td>C1425226</td>\n",
       "      <td>FKRP gene</td>\n",
       "      <td>714968</td>\n",
       "      <td>730197</td>\n",
       "      <td>associated_with</td>\n",
       "      <td>associated_with</td>\n",
       "    </tr>\n",
       "    <tr>\n",
       "      <th>8</th>\n",
       "      <td>C1414209</td>\n",
       "      <td>DYSF gene</td>\n",
       "      <td>C0023212</td>\n",
       "      <td>C0005578</td>\n",
       "      <td>C1422255</td>\n",
       "      <td>ABCG5 gene</td>\n",
       "      <td>714968</td>\n",
       "      <td>707395</td>\n",
       "      <td>associated_with</td>\n",
       "      <td>associated_with</td>\n",
       "    </tr>\n",
       "    <tr>\n",
       "      <th>9</th>\n",
       "      <td>C1414209</td>\n",
       "      <td>DYSF gene</td>\n",
       "      <td>C0023212</td>\n",
       "      <td>C0005578</td>\n",
       "      <td>C1422256</td>\n",
       "      <td>ABCG8 gene</td>\n",
       "      <td>714968</td>\n",
       "      <td>717726</td>\n",
       "      <td>associated_with</td>\n",
       "      <td>associated_with</td>\n",
       "    </tr>\n",
       "  </tbody>\n",
       "</table>\n",
       "</div>"
      ],
      "text/plain": [
       "  positive_genes_cui positive_genes_label  features features_to_remove  \\\n",
       "0           C1414209            DYSF gene  C0023212           C0005578   \n",
       "1           C1414209            DYSF gene  C0023212           C0005578   \n",
       "2           C1414209            DYSF gene  C0023212           C0005578   \n",
       "3           C1414209            DYSF gene  C0023212           C0005578   \n",
       "4           C1414209            DYSF gene  C0023212           C0005578   \n",
       "5           C1414209            DYSF gene  C0023212           C0005578   \n",
       "6           C1414209            DYSF gene  C0023212           C0005578   \n",
       "7           C1414209            DYSF gene  C0023212           C0005578   \n",
       "8           C1414209            DYSF gene  C0023212           C0005578   \n",
       "9           C1414209            DYSF gene  C0023212           C0005578   \n",
       "\n",
       "  unknown_genes_cui unknown_genes_label  pos_ids  unk_ids               r1  \\\n",
       "0          C1412137          ACTA2 gene   714968   706646  associated_with   \n",
       "1          C1419216         KIF20A gene   714968   709722  associated_with   \n",
       "2          C1423020         GTPBP3 gene   714968   732531  associated_with   \n",
       "3          C1414899            GAA gene   714968   695327  associated_with   \n",
       "4          C1826654           PPCS gene   714968   713476  associated_with   \n",
       "5          C1420009           SGCG gene   714968   729483  associated_with   \n",
       "6          C1537558        LDLRAP1 gene   714968   723232  associated_with   \n",
       "7          C1425226           FKRP gene   714968   730197  associated_with   \n",
       "8          C1422255          ABCG5 gene   714968   707395  associated_with   \n",
       "9          C1422256          ABCG8 gene   714968   717726  associated_with   \n",
       "\n",
       "                r2  \n",
       "0  associated_with  \n",
       "1  associated_with  \n",
       "2  associated_with  \n",
       "3  associated_with  \n",
       "4  associated_with  \n",
       "5  associated_with  \n",
       "6  associated_with  \n",
       "7  associated_with  \n",
       "8  associated_with  \n",
       "9  associated_with  "
      ]
     },
     "execution_count": 26,
     "metadata": {},
     "output_type": "execute_result"
    }
   ],
   "source": [
    "import pandas as pd\n",
    "\n",
    "park_df = pd.read_csv(\"parkinson_trunc.csv\")\n",
    "park_df.head(10)"
   ]
  },
  {
   "cell_type": "code",
   "execution_count": 34,
   "id": "642d73ab-b7d5-4e79-b293-8dc87d5ed681",
   "metadata": {},
   "outputs": [
    {
     "name": "stdout",
     "output_type": "stream",
     "text": [
      "  positive_genes_cui  pos_ids\n",
      "0           C1414209   714968 (1, 2)\n",
      "(4,)\n",
      "(324, 2)\n"
     ]
    }
   ],
   "source": [
    "unique_pos_cui = park_df[[\"positive_genes_cui\", \"pos_ids\"]].drop_duplicates([\"positive_genes_cui\"])\n",
    "unique_unk_cui = park_df[[\"unknown_genes_cui\", \"unk_ids\"]].drop_duplicates([\"unknown_genes_cui\"])\n",
    "unique_features = park_df[\"features\"].drop_duplicates()\n",
    "# pos_ids = park_df[park_df[\"positive_genes_cui\"] == unique_pos_cui]\n",
    "print(unique_pos_cui.head(), unique_pos_cui.shape)\n",
    "print(unique_features.shape)\n",
    "\n",
    "pos_labels = [\"1\" for _ in range(unique_pos_cui.shape[0])]\n",
    "unk_labels = [\"0\" for _ in range(unique_unk_cui.shape[0])]\n",
    "\n",
    "cuis = pd.DataFrame({\n",
    "    \"cui\": pd.concat([unique_pos_cui[\"pos_ids\"], unique_unk_cui[\"unk_ids\"]]),\n",
    "    \"label\": pos_labels + unk_labels\n",
    "})\n",
    "\n",
    "cuis.drop_duplicates([\"cui\"], inplace = True)\n",
    "print(cuis.shape)"
   ]
  },
  {
   "cell_type": "code",
   "execution_count": 35,
   "id": "ceaf48db-382e-4f69-bcfc-f1c8fda11840",
   "metadata": {},
   "outputs": [
    {
     "data": {
      "text/html": [
       "<div>\n",
       "<style scoped>\n",
       "    .dataframe tbody tr th:only-of-type {\n",
       "        vertical-align: middle;\n",
       "    }\n",
       "\n",
       "    .dataframe tbody tr th {\n",
       "        vertical-align: top;\n",
       "    }\n",
       "\n",
       "    .dataframe thead th {\n",
       "        text-align: right;\n",
       "    }\n",
       "</style>\n",
       "<table border=\"1\" class=\"dataframe\">\n",
       "  <thead>\n",
       "    <tr style=\"text-align: right;\">\n",
       "      <th></th>\n",
       "      <th>C0023212</th>\n",
       "      <th>C4020858</th>\n",
       "      <th>C0700251</th>\n",
       "      <th>C0686353</th>\n",
       "    </tr>\n",
       "  </thead>\n",
       "  <tbody>\n",
       "    <tr>\n",
       "      <th>0</th>\n",
       "      <td>1</td>\n",
       "      <td>0</td>\n",
       "      <td>0</td>\n",
       "      <td>0</td>\n",
       "    </tr>\n",
       "    <tr>\n",
       "      <th>1</th>\n",
       "      <td>1</td>\n",
       "      <td>0</td>\n",
       "      <td>0</td>\n",
       "      <td>0</td>\n",
       "    </tr>\n",
       "    <tr>\n",
       "      <th>2</th>\n",
       "      <td>1</td>\n",
       "      <td>0</td>\n",
       "      <td>0</td>\n",
       "      <td>0</td>\n",
       "    </tr>\n",
       "    <tr>\n",
       "      <th>3</th>\n",
       "      <td>1</td>\n",
       "      <td>0</td>\n",
       "      <td>0</td>\n",
       "      <td>0</td>\n",
       "    </tr>\n",
       "    <tr>\n",
       "      <th>4</th>\n",
       "      <td>1</td>\n",
       "      <td>0</td>\n",
       "      <td>0</td>\n",
       "      <td>0</td>\n",
       "    </tr>\n",
       "  </tbody>\n",
       "</table>\n",
       "</div>"
      ],
      "text/plain": [
       "   C0023212  C4020858  C0700251  C0686353\n",
       "0         1         0         0         0\n",
       "1         1         0         0         0\n",
       "2         1         0         0         0\n",
       "3         1         0         0         0\n",
       "4         1         0         0         0"
      ]
     },
     "execution_count": 35,
     "metadata": {},
     "output_type": "execute_result"
    }
   ],
   "source": [
    "def features_present(row, features):\n",
    "    return {feature: 1 if feature in row[\"features\"] else 0 for feature in features}\n",
    "\n",
    "features_df = park_df.apply(features_present, axis =1, result_type = \"expand\", args = (unique_features,))\n",
    "features_df.head()"
   ]
  },
  {
   "cell_type": "code",
   "execution_count": 36,
   "id": "6f30b3c9-3b99-4e36-aaf4-f81f66125414",
   "metadata": {},
   "outputs": [
    {
     "name": "stdout",
     "output_type": "stream",
     "text": [
      "     nodeId labels  C0023212  C4020858  C0700251  C0686353\n",
      "0    714968      1         1         0         0         0\n",
      "0    706646      0         1         0         0         0\n",
      "1    709722      0         1         0         0         0\n",
      "2    732531      0         1         0         0         0\n",
      "3    695327      0         1         0         0         0\n",
      "..      ...    ...       ...       ...       ...       ...\n",
      "640  505183      0         0         0         0         1\n",
      "641  707352      0         0         0         0         1\n",
      "644  703299      0         0         0         0         1\n",
      "646  708707      0         0         0         0         1\n",
      "648  452214      0         0         0         0         1\n",
      "\n",
      "[324 rows x 6 columns]\n"
     ]
    }
   ],
   "source": [
    "nodes = pd.DataFrame(\n",
    "    {\n",
    "        \"nodeId\": cuis[\"cui\"],\n",
    "        \"labels\":  cuis[\"label\"],\n",
    "    }\n",
    ")\n",
    "nodes[features_df.columns] = features_df\n",
    "# nodes[new_df]\n",
    "print(nodes)\n"
   ]
  },
  {
   "cell_type": "code",
   "execution_count": 37,
   "id": "68af5ffe-0a15-43a5-983f-f9a743cdc9ff",
   "metadata": {},
   "outputs": [],
   "source": [
    "relationships = pd.DataFrame(\n",
    "    {\n",
    "        \"sourceNodeId\": park_df[\"pos_ids\"],\n",
    "        \"targetNodeId\": park_df[\"unk_ids\"],\n",
    "        \"relationshipType\": park_df[\"r1\"]\n",
    "    }\n",
    ")"
   ]
  },
  {
   "cell_type": "code",
   "execution_count": 40,
   "id": "7b44f62b-3702-4c86-982b-d74024d6a754",
   "metadata": {},
   "outputs": [],
   "source": [
    "GRAPH_NAME = \"gene-gnn\"\n",
    "PIPELINE_NAME = \"gene-pipeline\""
   ]
  },
  {
   "cell_type": "code",
   "execution_count": 59,
   "id": "a938dedc-32ff-4932-90a5-de99be8e2656",
   "metadata": {},
   "outputs": [],
   "source": [
    "if gds.graph.exists(GRAPH_NAME).exists:\n",
    "    gds.graph.drop(GRAPH_NAME)\n",
    "\n",
    "G = gds.graph.construct(\n",
    "    GRAPH_NAME,      # Graph name\n",
    "    nodes,           # One or more dataframes containing node data\n",
    "    relationships    # One or more dataframes containing relationship data\n",
    ")"
   ]
  },
  {
   "cell_type": "code",
   "execution_count": 60,
   "id": "41e83dea-c361-4c5c-9807-2f063feb43a0",
   "metadata": {},
   "outputs": [
    {
     "name": "stdout",
     "output_type": "stream",
     "text": [
      "['1', '0'] ['disease_has_associated_gene', 'gene_associated_with_disease', 'inverse_associated_with', 'associated_with'] 1    [C0700251, C0023212, C0686353, C4020858]\n",
      "0    [C0700251, C0023212, C0686353, C4020858]\n",
      "dtype: object\n"
     ]
    }
   ],
   "source": [
    "print(G.node_labels(), G.relationship_types(), G.node_properties())"
   ]
  },
  {
   "cell_type": "code",
   "execution_count": null,
   "id": "cdab3a3b-8b12-4913-876a-a39c9fc70cba",
   "metadata": {},
   "outputs": [],
   "source": []
  },
  {
   "cell_type": "code",
   "execution_count": 62,
   "id": "8ffc294a-cdb8-4adb-8772-686f499a359b",
   "metadata": {},
   "outputs": [],
   "source": [
    "if gds.pipeline.exists(PIPELINE_NAME).exists:\n",
    "    gds.pipeline.drop(PIPELINE_NAME)\n",
    "    \n",
    "pipe, _ = gds.beta.pipeline.nodeClassification.create(PIPELINE_NAME)\n",
    "    \n",
    "_ = pipe.configureSplit(testFraction = 0.796)"
   ]
  },
  {
   "cell_type": "code",
   "execution_count": 63,
   "id": "837a739c-a627-4208-8023-e343b68c3603",
   "metadata": {},
   "outputs": [],
   "source": [
    "_ = pipe.addNodeProperty(\n",
    "    \"beta.hashgnn\",\n",
    "    mutateProperty=\"embedding\",\n",
    "    iterations = 4, \n",
    "    heterogeneous = True, \n",
    "    embeddingDensity = 512, \n",
    "    neighborInfluence = 0.7,\n",
    "    featureProperties = unique_features,\n",
    "    randomSeed = 42,\n",
    "    contextNodeLabels = G.node_labels()\n",
    ")"
   ]
  },
  {
   "cell_type": "code",
   "execution_count": 64,
   "id": "7a71b18d-6411-4a89-b36e-16b889f92ce7",
   "metadata": {},
   "outputs": [],
   "source": [
    "_ = pipe.selectFeatures(\"embedding\")"
   ]
  },
  {
   "cell_type": "code",
   "execution_count": 65,
   "id": "e5dcf7d0-8de1-428f-973d-cba9d3371531",
   "metadata": {},
   "outputs": [],
   "source": [
    "_ = pipe.addLogisticRegression(penalty = (0.1, 1.0), maxEpochs = 1000, patience = 5, tolerance = 0.0001, learningRate = 0.01)\n",
    "_ = pipe.addRandomForest(minSplitSize = (2, 100), criterion = \"ENTROPY\")"
   ]
  },
  {
   "cell_type": "code",
   "execution_count": 81,
   "id": "933432d7-18ff-4fb0-9e92-66546e0fe39c",
   "metadata": {},
   "outputs": [
    {
     "name": "stderr",
     "output_type": "stream",
     "text": [
      "Node Classification Train Pipeline: 100%|███| 100.0/100 [00:02<00:00, 34.28%/s]\n"
     ]
    }
   ],
   "source": [
    "if gds.model.exists(\"gene-model\").exists:\n",
    "    gds.beta.model.drop(\"gene-model\")\n",
    "model, _ = pipe.train(\n",
    "    G,\n",
    "    modelName = \"gene-model\",\n",
    "    targetNodeLabels = [\"1\", \"0\"],\n",
    "    targetProperty = \"C0686353\",\n",
    "    metrics = [\"F1_MACRO\", \"ACCURACY\"],\n",
    "    randomSeed = 42\n",
    ")"
   ]
  },
  {
   "cell_type": "code",
   "execution_count": 82,
   "id": "20d6da3d-1d78-4c5c-bb22-fcd52eb8aac9",
   "metadata": {},
   "outputs": [
    {
     "data": {
      "text/plain": [
       "F1_MACRO    {'train': {'min': 0.488372090411033, 'avg': 0....\n",
       "ACCURACY    {'train': {'min': 0.95454546, 'avg': 0.9545454...\n",
       "dtype: object"
      ]
     },
     "execution_count": 82,
     "metadata": {},
     "output_type": "execute_result"
    }
   ],
   "source": [
    "model.metrics()"
   ]
  }
 ],
 "metadata": {
  "kernelspec": {
   "display_name": "Python 3 (ipykernel)",
   "language": "python",
   "name": "python3"
  },
  "language_info": {
   "codemirror_mode": {
    "name": "ipython",
    "version": 3
   },
   "file_extension": ".py",
   "mimetype": "text/x-python",
   "name": "python",
   "nbconvert_exporter": "python",
   "pygments_lexer": "ipython3",
   "version": "3.8.18"
  }
 },
 "nbformat": 4,
 "nbformat_minor": 5
}
